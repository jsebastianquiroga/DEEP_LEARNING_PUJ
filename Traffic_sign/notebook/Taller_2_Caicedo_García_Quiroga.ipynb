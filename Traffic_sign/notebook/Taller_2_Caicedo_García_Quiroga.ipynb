{
  "cells": [
    {
      "cell_type": "markdown",
      "metadata": {
        "id": "view-in-github",
        "colab_type": "text"
      },
      "source": [
        "<a href=\"https://colab.research.google.com/github/jsebastianquiroga/DEEP_LEARNING_PUJ/blob/main/Traffic_sign/notebook/Taller_2_Caicedo_Garc%C3%ADa_Quiroga.ipynb\" target=\"_parent\"><img src=\"https://colab.research.google.com/assets/colab-badge.svg\" alt=\"Open In Colab\"/></a>"
      ]
    },
    {
      "cell_type": "markdown",
      "metadata": {
        "id": "nzIeTlLbgD6s"
      },
      "source": [
        "# <img style=\"float: center; padding-right: 10px;\" src=\"https://www.pikpng.com/pngl/b/467-4670553_universidad-javeriana-esslingen-am-neckar-clipart.png\" width=\"100\" height=\"150\">\n",
        "\n",
        "\n",
        "\n",
        "<h1> <strong>Aprendizaje Profundo.</strong></h1> \n",
        "<h2> Para: Ing. Julio Omar Palacio Niño, M.Sc.</br></h2>\n",
        "<h2>Integrantes:</br></h2>\n",
        "<h2>Antonio Jose Caicedo.</br></h2>\n",
        "<h2>Juan Sebastián Quiroga Bernal. </h2>\n",
        "<h2>Leonardo García.</br></h2>"
      ]
    },
    {
      "cell_type": "markdown",
      "metadata": {
        "id": "C9K1WTgR-UoC"
      },
      "source": [
        "**Este colab puede ser ejecutado por cualquier usuario sin necesidad de cargar los archivos al entorno, debido a que la conexión está configurada para acceder a los archivos desde la nube**.\n"
      ]
    },
    {
      "cell_type": "markdown",
      "metadata": {
        "id": "msRcJntlh-dN"
      },
      "source": [
        "<h1> <strong>Taller 2: Traffic Sign Classification and Recognition.</strong></h1> \n",
        "\n",
        "En este notebook exploraremos diferentes propuestas de redes convolucionales para el reconocimiento y clasificación de señales de tráfico. Para ello, utilizaremos el conjunto de datos \"Traffic Sign Classification and Recognition\", que contiene más de 6.000 imágenes etiquetadas manualmente en 10 categorías diferentes, que incluyen señales de guía, señales de velocidad máxima y señales de prioridad, entre otras.\n",
        "\n",
        "El conjunto de datos se encuentra dividido en un conjunto de entrenamiento y un conjunto de prueba, cada uno con su respectivo archivo de anotaciones en formato JSON. En este notebook, implementaremos diferentes arquitecturas de redes convolucionales utilizando la biblioteca Keras, y evaluaremos su rendimiento en términos de precisión y pérdida.\n",
        "\n",
        "El objetivo de este proyecto es explorar diferentes técnicas y arquitecturas de redes convolucionales para mejorar el reconocimiento y clasificación de señales de tráfico.\n",
        "\n",
        "En el presente Notebook, se exploraran los datos del data set de Kaggel: https://www.kaggle.com/datasets/wjybuqi/traffic-sign-classification-and-recognition\n",
        "\n",
        "Este conjunto de datos contiene 6358 etiquetas de categorías etiquetadas manualmente. Las etiquetas incluyen las 10 categorías siguientes: `GuideSign`, `M1`, `M4`, `M5`, `M6`, `M7`, `P1`, `P10_50`, `P12`, `W1`, correspondientes a diez categorías diferentes de señales de tráfico. Todos los datos se han dividido manualmente en conjunto de entrenamiento y conjunto de prueba según la proporción.\n",
        "\n",
        "<table>\n",
        "  <tr>\n",
        "    <th>Categoría</th>\n",
        "    <th>Descripción</th>\n",
        "  </tr>\n",
        "  <tr>\n",
        "    <td>Guidesign</td>\n",
        "    <td>Refiere al diseño y la colocación de señales de tráfico para guiar y orientar a los conductores y peatones en la vía pública.</td>\n",
        "  </tr>\n",
        "  <tr>\n",
        "    <td>M1</td>\n",
        "    <td>Señales de tráfico que indican la dirección a seguir, como flechas de dirección y señales de carril para la entrada y salida de carriles.</td>\n",
        "  </tr>\n",
        "  <tr>\n",
        "    <td>M4</td>\n",
        "    <td>Señales de tráfico que se colocan a lo largo de los carriles de tráfico para proporcionar información específica sobre los carriles de la carretera.</td>\n",
        "  </tr>\n",
        "  <tr>\n",
        "    <td>M5</td>\n",
        "    <td>Señales de tráfico que indican la presencia de una carretera o un camino, y las restricciones o regulaciones que se aplican a los vehículos en la misma.</td>\n",
        "  </tr>\n",
        "  <tr>\n",
        "    <td>M6</td>\n",
        "    <td>Señales de tráfico específicas para ciclistas que indican carriles o áreas exclusivas para bicicletas.</td>\n",
        "  </tr>\n",
        "  <tr>\n",
        "    <td>M7</td>\n",
        "    <td>Señales de tráfico que indican la presencia de un paso de peatones y que alertan a los conductores para reducir la velocidad y ceder el paso a los peatones.</td>\n",
        "  </tr>\n",
        "  <tr>\n",
        "    <td>P1</td>\n",
        "    <td>Señales de tráfico que indican una prohibición o restricción, como una señal de \"prohibido estacionarse\" o una señal de \"prohibido girar a la izquierda\".</td>\n",
        "  </tr>\n",
        "  <tr>\n",
        "    <td>P10_50</td>\n",
        "    <td>Señales de tráfico que indican los límites de velocidad máxima en una determinada carretera o calle.</td>\n",
        "  </tr>\n",
        "  <tr>\n",
        "    <td>P12</td>\n",
        "    <td>Señales de tráfico que indican una cortesía o sugerencia, como una señal de \"cambio de carril sugerido\" o una señal de \"ceda el paso\".</td>\n",
        "  </tr>\n",
        "  <tr>\n",
        "    <td>W1</td>\n",
        "    <td>Señales de tráfico que indican peligros o advertencias en la carretera, como señales de \"curva peligrosa\" o señales de \"cruce de animales\".</td>\n",
        "  </tr>\n",
        "</table>\n",
        "\n",
        "El presente notebook, estará dividido en divido en las siguientes partes:\n",
        "<ol>\n",
        "<li> Cargue y preparación del data set  </li>\n",
        "<li> Exploración del data set y su comprención . </li>\n",
        "<li> Modelo 1.</li>\n",
        "<li> Modelo 2.</li>\n",
        "<li> Analisis de resultados redes.</li>\n",
        "<li> Bono.</li>\n",
        "</ol>"
      ]
    },
    {
      "cell_type": "markdown",
      "source": [
        " <a id=\"carque\"></a>\n",
        "# 1. Cargue del data set."
      ],
      "metadata": {
        "id": "KoJQDaY4gkMU"
      }
    },
    {
      "cell_type": "code",
      "source": [
        "from psutil import virtual_memory\n",
        "ram_gb = virtual_memory().total / 1e9\n",
        "print('Your runtime has {:.1f} gigabytes of available RAM\\n'.format(ram_gb))\n",
        "\n",
        "if ram_gb < 20:\n",
        "  print('Not using a high-RAM runtime')\n",
        "else:\n",
        "  print('You are using a high-RAM runtime!')\n",
        "\n",
        "# Importar las liobrerías y paquetes\n",
        "import os\n",
        "from scipy import signal\n",
        "import matplotlib.pyplot as plt\n",
        "import numpy as np\n",
        "from skimage import color\n",
        "from skimage import io\n",
        "\n",
        "from matplotlib.image import imread\n",
        "# Conexion a gdrive\n",
        "from pydrive.auth import GoogleAuth\n",
        "from google.colab import drive\n",
        "from pydrive.drive import GoogleDrive\n",
        "from google.colab import auth\n",
        "\n",
        "from oauth2client.client import GoogleCredentials \n",
        "auth.authenticate_user()\n",
        "gauth = GoogleAuth()\n",
        "gauth.credentials = GoogleCredentials.get_application_default()\n",
        "drive = GoogleDrive(gauth)"
      ],
      "metadata": {
        "id": "KHRdhnHDgsZ7",
        "outputId": "0634355a-fa61-4605-9f36-3472c81b11c3",
        "colab": {
          "base_uri": "https://localhost:8080/"
        }
      },
      "execution_count": 7,
      "outputs": [
        {
          "output_type": "stream",
          "name": "stdout",
          "text": [
            "Your runtime has 13.6 gigabytes of available RAM\n",
            "\n",
            "Not using a high-RAM runtime\n"
          ]
        }
      ]
    },
    {
      "cell_type": "markdown",
      "source": [
        "Las imágenes que se utilizarán en este proyecto ya han sido segmentadas previamente en la competencia de Kaggle. Para su uso en este proyecto, las imágenes han sido cargadas en un drive público. Se cargarán las bases de datos tal como fueron proporcionadas en la competencia."
      ],
      "metadata": {
        "id": "7Lepcn_ajlrz"
      }
    },
    {
      "cell_type": "code",
      "source": [
        "folder = '18VNhiT-PPcYOsfpX1TN66ektcXl3BShn'\n",
        "download = drive.CreateFile({'id': folder})\n",
        "download.GetContentFile('traffic-sings.zip') # Guarda la imagen en un archivo temporal\n",
        "\n",
        "!unzip -q dataset.zip | head -n 5\n",
        "\n",
        "PATH = '/content/traffic-sings'\n",
        "\n",
        "print(os.listdir(PATH))\n",
        "\n",
        "train_dir = os.path.join(PATH,\n",
        "                         'train_dataset')\n",
        "test_dir = os.path.join(PATH,\n",
        "                        'test_dataset')"
      ],
      "metadata": {
        "id": "I6BGVffQgiFw",
        "outputId": "102e4823-b5e1-4130-b3a0-f648c584533d",
        "colab": {
          "base_uri": "https://localhost:8080/",
          "height": 252
        }
      },
      "execution_count": 6,
      "outputs": [
        {
          "output_type": "stream",
          "name": "stdout",
          "text": [
            "unzip:  cannot find or open dataset.zip, dataset.zip.zip or dataset.zip.ZIP.\n"
          ]
        },
        {
          "output_type": "error",
          "ename": "NameError",
          "evalue": "ignored",
          "traceback": [
            "\u001b[0;31m---------------------------------------------------------------------------\u001b[0m",
            "\u001b[0;31mNameError\u001b[0m                                 Traceback (most recent call last)",
            "\u001b[0;32m<ipython-input-6-d8d3d024e01b>\u001b[0m in \u001b[0;36m<cell line: 9>\u001b[0;34m()\u001b[0m\n\u001b[1;32m      7\u001b[0m \u001b[0mPATH\u001b[0m \u001b[0;34m=\u001b[0m \u001b[0;34m'/content/traffic-sings'\u001b[0m\u001b[0;34m\u001b[0m\u001b[0;34m\u001b[0m\u001b[0m\n\u001b[1;32m      8\u001b[0m \u001b[0;34m\u001b[0m\u001b[0m\n\u001b[0;32m----> 9\u001b[0;31m \u001b[0mprint\u001b[0m\u001b[0;34m(\u001b[0m\u001b[0mos\u001b[0m\u001b[0;34m.\u001b[0m\u001b[0mlistdir\u001b[0m\u001b[0;34m(\u001b[0m\u001b[0mPATH\u001b[0m\u001b[0;34m)\u001b[0m\u001b[0;34m)\u001b[0m\u001b[0;34m\u001b[0m\u001b[0;34m\u001b[0m\u001b[0m\n\u001b[0m\u001b[1;32m     10\u001b[0m \u001b[0;34m\u001b[0m\u001b[0m\n\u001b[1;32m     11\u001b[0m train_dir = os.path.join(PATH,\n",
            "\u001b[0;31mNameError\u001b[0m: name 'os' is not defined"
          ]
        }
      ]
    },
    {
      "cell_type": "code",
      "source": [
        "from keras.preprocessing.image import ImageDataGenerator \n",
        "\n",
        "#valores  de entrada:\n",
        "\n",
        "pixel=150 #imagenes de 150 pixeles\n",
        "size=20\n",
        "epocas=10\n",
        "batch = 200\n",
        "\n",
        "train_datagen = ImageDataGenerator(rescale = 1./255)\n",
        "validation_datagen = ImageDataGenerator(rescale = 1./255)\n",
        "test_datagen = ImageDataGenerator(rescale = 1./255)"
      ],
      "metadata": {
        "id": "HAiKze1EhtUC"
      },
      "execution_count": null,
      "outputs": []
    },
    {
      "cell_type": "code",
      "source": [
        "category_indices = [np.where(y_train == i)[0][0] for i in range(10)]\n",
        "category_labels = ['T-shirt/top', 'Trouser', 'Pullover', 'Dress', 'Coat', 'Sandal', 'Shirt', 'Sneaker', 'Bag', 'Ankle boot']\n",
        "# Plot examples\n",
        "plt.figure(figsize=(10, 10))\n",
        "for i, index in enumerate(category_indices):\n",
        "    plt.subplot(5, 2, i + 1)\n",
        "    plt.xticks([])\n",
        "    plt.yticks([])\n",
        "    plt.grid(False)\n",
        "    plt.imshow(x_train[index], cmap=plt.cm.binary)\n",
        "    plt.xlabel(str(y_train[index]))\n",
        "\n",
        "\n",
        "    plt.xlabel(category_labels[y_train[index]])\n",
        "plt.show()"
      ],
      "metadata": {
        "id": "vHsOOudMjCgi"
      },
      "execution_count": null,
      "outputs": []
    }
  ],
  "metadata": {
    "colab": {
      "collapsed_sections": [
        "m4cmOojch_to",
        "gKiIShYiXv1C",
        "ydlq9_vRaUdQ",
        "yfxtbQ_2ZrWL"
      ],
      "provenance": [],
      "machine_shape": "hm",
      "include_colab_link": true
    },
    "kernelspec": {
      "display_name": "Python 3 (ipykernel)",
      "language": "python",
      "name": "python3"
    },
    "language_info": {
      "codemirror_mode": {
        "name": "ipython",
        "version": 3
      },
      "file_extension": ".py",
      "mimetype": "text/x-python",
      "name": "python",
      "nbconvert_exporter": "python",
      "pygments_lexer": "ipython3",
      "version": "3.9.13"
    },
    "accelerator": "GPU",
    "gpuClass": "premium"
  },
  "nbformat": 4,
  "nbformat_minor": 0
}