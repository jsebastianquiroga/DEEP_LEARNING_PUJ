{
  "nbformat": 4,
  "nbformat_minor": 0,
  "metadata": {
    "colab": {
      "provenance": [],
      "collapsed_sections": [
        "m4cmOojch_to",
        "gKiIShYiXv1C",
        "ydlq9_vRaUdQ",
        "yfxtbQ_2ZrWL"
      ],
      "include_colab_link": true
    },
    "kernelspec": {
      "name": "python3",
      "display_name": "Python 3"
    },
    "language_info": {
      "name": "python"
    }
  },
  "cells": [
    {
      "cell_type": "markdown",
      "metadata": {
        "id": "view-in-github",
        "colab_type": "text"
      },
      "source": [
        "<a href=\"https://colab.research.google.com/github/jsebastianquiroga/DEEP_LEARNING_UPJ/blob/main/taller_dos/ejemplo.ipynb\" target=\"_parent\"><img src=\"https://colab.research.google.com/assets/colab-badge.svg\" alt=\"Open In Colab\"/></a>"
      ]
    },
    {
      "cell_type": "markdown",
      "source": [
        "Dataset\n",
        "  - class1\n",
        "    - image1.jpg\n",
        "    - image2.jpg\n",
        "  - class2\n",
        "    - image1.jpg\n",
        "    - image2.jpg\n",
        "    "
      ],
      "metadata": {
        "id": "PRd23q3PkFMc"
      }
    },
    {
      "cell_type": "code",
      "source": [
        "import os\n",
        "import io\n",
        "from google.oauth2.credentials import Credentials\n",
        "from googleapiclient.discovery import build\n",
        "from googleapiclient.errors import HttpError\n",
        "from googleapiclient.http import MediaIoBaseDownload\n",
        "import cv2\n",
        "import numpy as np\n",
        "from tensorflow.keras.preprocessing.image import img_to_array"
      ],
      "metadata": {
        "id": "R7YykW_PlqAD"
      },
      "execution_count": null,
      "outputs": []
    },
    {
      "cell_type": "code",
      "source": [
        "class ImageLoader:\n",
        "    def __init__(self, folder_id):\n",
        "        self.folder_id = folder_id\n",
        "        self.service = self.get_drive_service()\n",
        "        self.images, self.labels = self.load_data_from_drive(target_size=(224, 224))\n",
        "\n",
        "    def get_drive_service(self):\n",
        "        creds = None\n",
        "        if os.path.exists('token.json'):\n",
        "            creds = Credentials.from_authorized_user_file('token.json')\n",
        "        service = build('drive', 'v3', credentials=creds)\n",
        "        return service\n",
        "\n",
        "    def get_folder_id(self, folder_id):\n",
        "        try:\n",
        "            folder = self.service.files().get(fileId=folder_id).execute()\n",
        "            if folder['mimeType'] == 'application/vnd.google-apps.folder':\n",
        "                return folder_id\n",
        "            else:\n",
        "                print(f'The given ID is not a folder.')\n",
        "                return None\n",
        "        except HttpError as error:\n",
        "            print(f'An error occurred: {error}')\n",
        "            return None\n",
        "\n",
        "    def get_folders_images(self, parent_id):\n",
        "        query = f\"'{parent_id}' in parents and mimeType != 'application/vnd.google-apps.folder' and trashed = false\"\n",
        "        results = self.service.files().list(q=query, fields=\"nextPageToken, files(id, name)\").execute()\n",
        "        items = results.get('files', [])\n",
        "        return items\n",
        "\n",
        "    def read_image_from_drive(self, file_id):\n",
        "        request = self.service.files().get_media(fileId=file_id)\n",
        "        image_data = io.BytesIO()\n",
        "        downloader = MediaIoBaseDownload(image_data, request)\n",
        "        done = False\n",
        "        while done is False:\n",
        "            _, done = downloader.next_chunk()\n",
        "        image_data.seek(0)\n",
        "        image_array = np.asarray(bytearray(image_data.read()), dtype=np.uint8)\n",
        "        image = cv2.imdecode(image_array, cv2.IMREAD_COLOR)\n",
        "        return image\n",
        "\n",
        "    def load_data_from_drive(self, target_size=(224, 224)):\n",
        "        parent_id = self.get_folder_id(self.folder_id)\n",
        "        if parent_id is None:\n",
        "            return None\n",
        "\n",
        "        class_folders = self.get_folders_images(parent_id)\n",
        "        images, labels = [], []\n",
        "        for folder in class_folders:\n",
        "            folder_id = folder['id']\n",
        "            folder_name = folder['name']\n",
        "            images_ids = self.get_folders_images(folder_id)\n",
        "            for image_meta in images_ids:\n",
        "                image = self.read_image_from_drive(image_meta['id'])\n",
        "                if image is not None:\n",
        "                    resized_image = cv2.resize(image, target_size)\n",
        "                    image_array = img_to_array(resized_image)\n",
        "                    images.append(image_array)\n",
        "                    labels.append(folder_name)\n",
        "        return np.array(images), np.array(labels)"
      ],
      "metadata": {
        "id": "b48Lmho7kzez"
      },
      "execution_count": null,
      "outputs": []
    },
    {
      "cell_type": "code",
      "source": [
        "if __name__ == '__main__':\n",
        "    folder_url = 'https://drive.google.com/drive/folders/1l6T6jPw6EE-fcCy7ChgeMdYA7bNawHk4'\n",
        "    folder_id = folder_url.split('/')[-1]\n",
        "    image_loader = ImageLoader(folder_id)\n",
        "\n",
        "    images = image_loader.images\n",
        "    labels = image_loader.labels\n",
        "\n",
        "    # Split your data into training and validation sets, preprocess it, and train your model...\n"
      ],
      "metadata": {
        "id": "zz0_bGwYkv70"
      },
      "execution_count": null,
      "outputs": []
    }
  ]
}