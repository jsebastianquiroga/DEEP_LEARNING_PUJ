{
  "nbformat": 4,
  "nbformat_minor": 0,
  "metadata": {
    "colab": {
      "provenance": [],
      "collapsed_sections": [
        "m4cmOojch_to",
        "gKiIShYiXv1C",
        "ydlq9_vRaUdQ",
        "yfxtbQ_2ZrWL"
      ],
      "include_colab_link": true
    },
    "kernelspec": {
      "name": "python3",
      "display_name": "Python 3"
    },
    "language_info": {
      "name": "python"
    }
  },
  "cells": [
    {
      "cell_type": "markdown",
      "metadata": {
        "id": "view-in-github",
        "colab_type": "text"
      },
      "source": [
        "<a href=\"https://colab.research.google.com/github/jsebastianquiroga/DL_Twitter_User_Gender_Classification/blob/main/Notebook/DL_Twitter_Gender_Classification.ipynb\" target=\"_parent\"><img src=\"https://colab.research.google.com/assets/colab-badge.svg\" alt=\"Open In Colab\"/></a>"
      ]
    },
    {
      "cell_type": "markdown",
      "source": [
        "# <img style=\"float: center; padding-right: 10px;\" src=\"https://www.pikpng.com/pngl/b/467-4670553_universidad-javeriana-esslingen-am-neckar-clipart.png\" width=\"100\" height=\"150\">\n",
        "\n",
        "\n",
        "\n",
        "<h1> <strong>Aprendizaje Profundo.</strong></h1> \n",
        "<h2> Para: Ing. Julio Omar Palacio Niño, M.Sc.</br></h2>\n",
        "<h2>Integrantes:</br></h2>\n",
        "<h2>Antonio Jose Caicedo.</br></h2>\n",
        "<h2>Leonardo García.</br></h2>\n",
        "<h2>Juan Sebastián Quiroga Bernal. </h2>"
      ],
      "metadata": {
        "id": "nzIeTlLbgD6s"
      }
    },
    {
      "cell_type": "markdown",
      "source": [
        "**Este colab puede ser ejecutado por cualquier usuario sin necesidad de cargar los archivos al entorno, debido a que la conexión está configurada para acceder a los archivos desde la nube**.\n"
      ],
      "metadata": {
        "id": "C9K1WTgR-UoC"
      }
    },
    {
      "cell_type": "markdown",
      "source": [
        "<h1> <strong>Taller 1: Twitter User Gender Classification.</strong></h1> \n",
        "\n",
        "En el presente Notebook, se exploraran los datos del data set de Kaggel: Twitter User Gender Classification. https://www.kaggle.com/crowdflower/twitter-user-gender-classification/\n",
        "\n",
        "Este conjunto de datos, fue utilziado para entranar un modelo de clasificación de genero conocido como \"CrowdFlower AI\".\n",
        "\n",
        "Cuyo proposito era inferir mendiante el perfil de un usuario de Twitter si el usuario era un hombre, mujer o compañia.\n",
        "\n",
        "Se tienen un total de 20.000 observaciones, conformadas con un nombre de usuario, tuit aleatorio, perfil, la imagen de la cuenta, la ubicación.\n",
        "\n",
        "<ol>\n",
        "_unit_id: un id único para el usuario</ol>\n",
        "<ol>_golden: si el usuario se incluyó en el patrón oro del modelo; TRUE o FALSE</ol>\n",
        "<ol>_unit_state: estado de la observación; uno de finalized (para contributor-judged) o golden (para gold standard observations)</ol>\n",
        "<ol>_trusted_judgments: número de juicios de confianza (int); siempre 3 para las observaciones no gold, y lo que puede ser un identificador único para las observaciones gold standard</ol>\n",
        "<ol>_last_judgment_at: fecha y hora de la última resolución del contribuyente; en blanco para las observaciones gold standard</ol>\n",
        "<ol>gender: uno de masculino, femenino o marca (para perfiles no humanos)</ol>\n",
        "<ol>gender:confidence: valor flotante que representa la confianza en el sexo indicado</ol>\n",
        "<ol>profile_yn: \"no\" aquí parece significar que el perfil debía formar parte del conjunto de datos pero no estaba disponible cuando los colaboradores fueron a juzgarlo</ol>\n",
        "<ol>profile_yn:confidence: confianza en la existencia/no existencia del perfil</ol>\n",
        "<ol>created: fecha y hora de creación del perfil</ol>\n",
        "<ol>description: descripción del perfil del usuario</ol>\n",
        "<ol>fav_number: número de tweets que el usuario ha marcado como favoritos</ol>\n",
        "<ol>gender_gold: si el perfil es dorado, ¿cuál es el género?</ol>\n",
        "<ol>link_color: el color del enlace en el perfil, como valor hexadecimal</ol>\n",
        "<ol>name: nombre del usuario</ol>\n",
        "<ol>profile_yn_gold: si el valor s/n del perfil es dorado</ol>\n",
        "<ol>profileimage: un enlace a la imagen del perfil</ol>\n",
        "<ol>retweet_count: número de veces que el usuario ha retuiteado (o posiblemente, ha sido retuiteado)</ol>\n",
        "<ol>sidebar_color: color de la barra lateral del perfil, como valor hexadecimal</ol>\n",
        "<ol>text: texto de un tweet aleatorio del usuario</ol>\n",
        "<ol>tweet_coord: si el usuario tiene activada la localización, las coordenadas</ol> \n",
        "<ol>como una cadena con el formato \"[latitud, longitud]\"</ol>\n",
        "<ol>tweet_count: número de tweets que ha publicado el usuario</ol>\n",
        "<ol>tweet_created: cuando se creó el tweet aleatorio (en la columna de texto)</ol>\n",
        "<ol>tweet_id: el id del tweet aleatorio</ol>\n",
        "<ol>tweet_location: ubicación del tweet; parece no estar especialmente normalizada</ol>\n",
        "<ol>user_timezone: la zona horaria del usuario</ol>\n",
        "\n",
        "El presente notebook, estará dividido en divido en las siguientes partes:\n",
        "<ol>\n",
        "<li> TBD:. </li>\n",
        "<li> TBD. </li>\n",
        "<li> TBD.</li>\n",
        "</ol>\n",
        "\n",
        "***"
      ],
      "metadata": {
        "id": "msRcJntlh-dN"
      }
    },
    {
      "cell_type": "markdown",
      "source": [
        "# <h1><strong> 1. Cargar el data set: </h1></strong>\n",
        "\n",
        "El dataset del link en referencia, fue descargado previamente y subido a google drive, para poder cargar el presente notebook sin problemas al momento de cargar la información. </br>"
      ],
      "metadata": {
        "id": "dpoUbOeVIX9B"
      }
    },
    {
      "cell_type": "code",
      "source": [
        "# Conexion a gdrive\n",
        "from pydrive.auth import GoogleAuth\n",
        "from google.colab import drive\n",
        "from pydrive.drive import GoogleDrive\n",
        "from google.colab import auth\n",
        "from oauth2client.client import GoogleCredentials\n",
        "\n",
        "import numpy as np \n",
        "import pandas as pd\n",
        "from matplotlib import pyplot as plt\n",
        "import matplotlib.pyplot as plt\n",
        "import seaborn as sns\n",
        "%matplotlib inline"
      ],
      "metadata": {
        "id": "VPpRP7-bNSgK"
      },
      "execution_count": null,
      "outputs": []
    },
    {
      "cell_type": "code",
      "source": [
        "auth.authenticate_user()\n",
        "gauth = GoogleAuth()\n",
        "gauth.credentials = GoogleCredentials.get_application_default()\n",
        "drive = GoogleDrive(gauth)\n",
        "\n",
        "twitter = '1gwF2scW3dpklHez9kNws1tlnSrK0XxWU' \n",
        "\n",
        "\n",
        "download = drive.CreateFile({'id': twitter}) \n",
        "download.GetContentFile('gender-classifier-DFE-791531.csv')"
      ],
      "metadata": {
        "id": "pTU79q0oNYv5"
      },
      "execution_count": null,
      "outputs": []
    },
    {
      "cell_type": "code",
      "source": [
        "#LECTURA NODOS Y EDGES FACEBOOK\n",
        "df_tw = pd.read_csv(r'gender-classifier-DFE-791531.csv',encoding=\"latin1\")\n",
        "df_tw.info()\n",
        "df_tw.head()"
      ],
      "metadata": {
        "id": "s4aw8LutLRGK",
        "outputId": "a97e7174-91ad-41d4-86b9-c02599ebdfdf",
        "colab": {
          "base_uri": "https://localhost:8080/",
          "height": 1000
        }
      },
      "execution_count": null,
      "outputs": [
        {
          "output_type": "stream",
          "name": "stdout",
          "text": [
            "<class 'pandas.core.frame.DataFrame'>\n",
            "RangeIndex: 20050 entries, 0 to 20049\n",
            "Data columns (total 26 columns):\n",
            " #   Column                 Non-Null Count  Dtype  \n",
            "---  ------                 --------------  -----  \n",
            " 0   _unit_id               20050 non-null  int64  \n",
            " 1   _golden                20050 non-null  bool   \n",
            " 2   _unit_state            20050 non-null  object \n",
            " 3   _trusted_judgments     20050 non-null  int64  \n",
            " 4   _last_judgment_at      20000 non-null  object \n",
            " 5   gender                 19953 non-null  object \n",
            " 6   gender:confidence      20024 non-null  float64\n",
            " 7   profile_yn             20050 non-null  object \n",
            " 8   profile_yn:confidence  20050 non-null  float64\n",
            " 9   created                20050 non-null  object \n",
            " 10  description            16306 non-null  object \n",
            " 11  fav_number             20050 non-null  int64  \n",
            " 12  gender_gold            50 non-null     object \n",
            " 13  link_color             20050 non-null  object \n",
            " 14  name                   20050 non-null  object \n",
            " 15  profile_yn_gold        50 non-null     object \n",
            " 16  profileimage           20050 non-null  object \n",
            " 17  retweet_count          20050 non-null  int64  \n",
            " 18  sidebar_color          20050 non-null  object \n",
            " 19  text                   20050 non-null  object \n",
            " 20  tweet_coord            159 non-null    object \n",
            " 21  tweet_count            20050 non-null  int64  \n",
            " 22  tweet_created          20050 non-null  object \n",
            " 23  tweet_id               20050 non-null  float64\n",
            " 24  tweet_location         12566 non-null  object \n",
            " 25  user_timezone          12252 non-null  object \n",
            "dtypes: bool(1), float64(3), int64(5), object(17)\n",
            "memory usage: 3.8+ MB\n"
          ]
        },
        {
          "output_type": "execute_result",
          "data": {
            "text/plain": [
              "    _unit_id  _golden _unit_state  _trusted_judgments _last_judgment_at  \\\n",
              "0  815719226    False   finalized                   3    10/26/15 23:24   \n",
              "1  815719227    False   finalized                   3    10/26/15 23:30   \n",
              "2  815719228    False   finalized                   3    10/26/15 23:33   \n",
              "3  815719229    False   finalized                   3    10/26/15 23:10   \n",
              "4  815719230    False   finalized                   3     10/27/15 1:15   \n",
              "\n",
              "   gender  gender:confidence profile_yn  profile_yn:confidence  \\\n",
              "0    male             1.0000        yes                    1.0   \n",
              "1    male             1.0000        yes                    1.0   \n",
              "2    male             0.6625        yes                    1.0   \n",
              "3    male             1.0000        yes                    1.0   \n",
              "4  female             1.0000        yes                    1.0   \n",
              "\n",
              "          created  ...                                       profileimage  \\\n",
              "0    12/5/13 1:48  ...  https://pbs.twimg.com/profile_images/414342229...   \n",
              "1   10/1/12 13:51  ...  https://pbs.twimg.com/profile_images/539604221...   \n",
              "2  11/28/14 11:30  ...  https://pbs.twimg.com/profile_images/657330418...   \n",
              "3   6/11/09 22:39  ...  https://pbs.twimg.com/profile_images/259703936...   \n",
              "4   4/16/14 13:23  ...  https://pbs.twimg.com/profile_images/564094871...   \n",
              "\n",
              "   retweet_count sidebar_color  \\\n",
              "0              0        FFFFFF   \n",
              "1              0        C0DEED   \n",
              "2              1        C0DEED   \n",
              "3              0        C0DEED   \n",
              "4              0             0   \n",
              "\n",
              "                                                text tweet_coord tweet_count  \\\n",
              "0  Robbie E Responds To Critics After Win Against...         NaN      110964   \n",
              "1  ÛÏIt felt like they were my friends and I was...         NaN        7471   \n",
              "2  i absolutely adore when louis starts the songs...         NaN        5617   \n",
              "3  Hi @JordanSpieth - Looking at the url - do you...         NaN        1693   \n",
              "4  Watching Neighbours on Sky+ catching up with t...         NaN       31462   \n",
              "\n",
              "    tweet_created      tweet_id   tweet_location               user_timezone  \n",
              "0  10/26/15 12:40  6.587300e+17  main; @Kan1shk3                     Chennai  \n",
              "1  10/26/15 12:40  6.587300e+17              NaN  Eastern Time (US & Canada)  \n",
              "2  10/26/15 12:40  6.587300e+17           clcncl                    Belgrade  \n",
              "3  10/26/15 12:40  6.587300e+17    Palo Alto, CA  Pacific Time (US & Canada)  \n",
              "4  10/26/15 12:40  6.587300e+17              NaN                         NaN  \n",
              "\n",
              "[5 rows x 26 columns]"
            ],
            "text/html": [
              "\n",
              "  <div id=\"df-8d95e99c-e7e4-456e-907e-cd59bd072700\">\n",
              "    <div class=\"colab-df-container\">\n",
              "      <div>\n",
              "<style scoped>\n",
              "    .dataframe tbody tr th:only-of-type {\n",
              "        vertical-align: middle;\n",
              "    }\n",
              "\n",
              "    .dataframe tbody tr th {\n",
              "        vertical-align: top;\n",
              "    }\n",
              "\n",
              "    .dataframe thead th {\n",
              "        text-align: right;\n",
              "    }\n",
              "</style>\n",
              "<table border=\"1\" class=\"dataframe\">\n",
              "  <thead>\n",
              "    <tr style=\"text-align: right;\">\n",
              "      <th></th>\n",
              "      <th>_unit_id</th>\n",
              "      <th>_golden</th>\n",
              "      <th>_unit_state</th>\n",
              "      <th>_trusted_judgments</th>\n",
              "      <th>_last_judgment_at</th>\n",
              "      <th>gender</th>\n",
              "      <th>gender:confidence</th>\n",
              "      <th>profile_yn</th>\n",
              "      <th>profile_yn:confidence</th>\n",
              "      <th>created</th>\n",
              "      <th>...</th>\n",
              "      <th>profileimage</th>\n",
              "      <th>retweet_count</th>\n",
              "      <th>sidebar_color</th>\n",
              "      <th>text</th>\n",
              "      <th>tweet_coord</th>\n",
              "      <th>tweet_count</th>\n",
              "      <th>tweet_created</th>\n",
              "      <th>tweet_id</th>\n",
              "      <th>tweet_location</th>\n",
              "      <th>user_timezone</th>\n",
              "    </tr>\n",
              "  </thead>\n",
              "  <tbody>\n",
              "    <tr>\n",
              "      <th>0</th>\n",
              "      <td>815719226</td>\n",
              "      <td>False</td>\n",
              "      <td>finalized</td>\n",
              "      <td>3</td>\n",
              "      <td>10/26/15 23:24</td>\n",
              "      <td>male</td>\n",
              "      <td>1.0000</td>\n",
              "      <td>yes</td>\n",
              "      <td>1.0</td>\n",
              "      <td>12/5/13 1:48</td>\n",
              "      <td>...</td>\n",
              "      <td>https://pbs.twimg.com/profile_images/414342229...</td>\n",
              "      <td>0</td>\n",
              "      <td>FFFFFF</td>\n",
              "      <td>Robbie E Responds To Critics After Win Against...</td>\n",
              "      <td>NaN</td>\n",
              "      <td>110964</td>\n",
              "      <td>10/26/15 12:40</td>\n",
              "      <td>6.587300e+17</td>\n",
              "      <td>main; @Kan1shk3</td>\n",
              "      <td>Chennai</td>\n",
              "    </tr>\n",
              "    <tr>\n",
              "      <th>1</th>\n",
              "      <td>815719227</td>\n",
              "      <td>False</td>\n",
              "      <td>finalized</td>\n",
              "      <td>3</td>\n",
              "      <td>10/26/15 23:30</td>\n",
              "      <td>male</td>\n",
              "      <td>1.0000</td>\n",
              "      <td>yes</td>\n",
              "      <td>1.0</td>\n",
              "      <td>10/1/12 13:51</td>\n",
              "      <td>...</td>\n",
              "      <td>https://pbs.twimg.com/profile_images/539604221...</td>\n",
              "      <td>0</td>\n",
              "      <td>C0DEED</td>\n",
              "      <td>ÛÏIt felt like they were my friends and I was...</td>\n",
              "      <td>NaN</td>\n",
              "      <td>7471</td>\n",
              "      <td>10/26/15 12:40</td>\n",
              "      <td>6.587300e+17</td>\n",
              "      <td>NaN</td>\n",
              "      <td>Eastern Time (US &amp; Canada)</td>\n",
              "    </tr>\n",
              "    <tr>\n",
              "      <th>2</th>\n",
              "      <td>815719228</td>\n",
              "      <td>False</td>\n",
              "      <td>finalized</td>\n",
              "      <td>3</td>\n",
              "      <td>10/26/15 23:33</td>\n",
              "      <td>male</td>\n",
              "      <td>0.6625</td>\n",
              "      <td>yes</td>\n",
              "      <td>1.0</td>\n",
              "      <td>11/28/14 11:30</td>\n",
              "      <td>...</td>\n",
              "      <td>https://pbs.twimg.com/profile_images/657330418...</td>\n",
              "      <td>1</td>\n",
              "      <td>C0DEED</td>\n",
              "      <td>i absolutely adore when louis starts the songs...</td>\n",
              "      <td>NaN</td>\n",
              "      <td>5617</td>\n",
              "      <td>10/26/15 12:40</td>\n",
              "      <td>6.587300e+17</td>\n",
              "      <td>clcncl</td>\n",
              "      <td>Belgrade</td>\n",
              "    </tr>\n",
              "    <tr>\n",
              "      <th>3</th>\n",
              "      <td>815719229</td>\n",
              "      <td>False</td>\n",
              "      <td>finalized</td>\n",
              "      <td>3</td>\n",
              "      <td>10/26/15 23:10</td>\n",
              "      <td>male</td>\n",
              "      <td>1.0000</td>\n",
              "      <td>yes</td>\n",
              "      <td>1.0</td>\n",
              "      <td>6/11/09 22:39</td>\n",
              "      <td>...</td>\n",
              "      <td>https://pbs.twimg.com/profile_images/259703936...</td>\n",
              "      <td>0</td>\n",
              "      <td>C0DEED</td>\n",
              "      <td>Hi @JordanSpieth - Looking at the url - do you...</td>\n",
              "      <td>NaN</td>\n",
              "      <td>1693</td>\n",
              "      <td>10/26/15 12:40</td>\n",
              "      <td>6.587300e+17</td>\n",
              "      <td>Palo Alto, CA</td>\n",
              "      <td>Pacific Time (US &amp; Canada)</td>\n",
              "    </tr>\n",
              "    <tr>\n",
              "      <th>4</th>\n",
              "      <td>815719230</td>\n",
              "      <td>False</td>\n",
              "      <td>finalized</td>\n",
              "      <td>3</td>\n",
              "      <td>10/27/15 1:15</td>\n",
              "      <td>female</td>\n",
              "      <td>1.0000</td>\n",
              "      <td>yes</td>\n",
              "      <td>1.0</td>\n",
              "      <td>4/16/14 13:23</td>\n",
              "      <td>...</td>\n",
              "      <td>https://pbs.twimg.com/profile_images/564094871...</td>\n",
              "      <td>0</td>\n",
              "      <td>0</td>\n",
              "      <td>Watching Neighbours on Sky+ catching up with t...</td>\n",
              "      <td>NaN</td>\n",
              "      <td>31462</td>\n",
              "      <td>10/26/15 12:40</td>\n",
              "      <td>6.587300e+17</td>\n",
              "      <td>NaN</td>\n",
              "      <td>NaN</td>\n",
              "    </tr>\n",
              "  </tbody>\n",
              "</table>\n",
              "<p>5 rows × 26 columns</p>\n",
              "</div>\n",
              "      <button class=\"colab-df-convert\" onclick=\"convertToInteractive('df-8d95e99c-e7e4-456e-907e-cd59bd072700')\"\n",
              "              title=\"Convert this dataframe to an interactive table.\"\n",
              "              style=\"display:none;\">\n",
              "        \n",
              "  <svg xmlns=\"http://www.w3.org/2000/svg\" height=\"24px\"viewBox=\"0 0 24 24\"\n",
              "       width=\"24px\">\n",
              "    <path d=\"M0 0h24v24H0V0z\" fill=\"none\"/>\n",
              "    <path d=\"M18.56 5.44l.94 2.06.94-2.06 2.06-.94-2.06-.94-.94-2.06-.94 2.06-2.06.94zm-11 1L8.5 8.5l.94-2.06 2.06-.94-2.06-.94L8.5 2.5l-.94 2.06-2.06.94zm10 10l.94 2.06.94-2.06 2.06-.94-2.06-.94-.94-2.06-.94 2.06-2.06.94z\"/><path d=\"M17.41 7.96l-1.37-1.37c-.4-.4-.92-.59-1.43-.59-.52 0-1.04.2-1.43.59L10.3 9.45l-7.72 7.72c-.78.78-.78 2.05 0 2.83L4 21.41c.39.39.9.59 1.41.59.51 0 1.02-.2 1.41-.59l7.78-7.78 2.81-2.81c.8-.78.8-2.07 0-2.86zM5.41 20L4 18.59l7.72-7.72 1.47 1.35L5.41 20z\"/>\n",
              "  </svg>\n",
              "      </button>\n",
              "      \n",
              "  <style>\n",
              "    .colab-df-container {\n",
              "      display:flex;\n",
              "      flex-wrap:wrap;\n",
              "      gap: 12px;\n",
              "    }\n",
              "\n",
              "    .colab-df-convert {\n",
              "      background-color: #E8F0FE;\n",
              "      border: none;\n",
              "      border-radius: 50%;\n",
              "      cursor: pointer;\n",
              "      display: none;\n",
              "      fill: #1967D2;\n",
              "      height: 32px;\n",
              "      padding: 0 0 0 0;\n",
              "      width: 32px;\n",
              "    }\n",
              "\n",
              "    .colab-df-convert:hover {\n",
              "      background-color: #E2EBFA;\n",
              "      box-shadow: 0px 1px 2px rgba(60, 64, 67, 0.3), 0px 1px 3px 1px rgba(60, 64, 67, 0.15);\n",
              "      fill: #174EA6;\n",
              "    }\n",
              "\n",
              "    [theme=dark] .colab-df-convert {\n",
              "      background-color: #3B4455;\n",
              "      fill: #D2E3FC;\n",
              "    }\n",
              "\n",
              "    [theme=dark] .colab-df-convert:hover {\n",
              "      background-color: #434B5C;\n",
              "      box-shadow: 0px 1px 3px 1px rgba(0, 0, 0, 0.15);\n",
              "      filter: drop-shadow(0px 1px 2px rgba(0, 0, 0, 0.3));\n",
              "      fill: #FFFFFF;\n",
              "    }\n",
              "  </style>\n",
              "\n",
              "      <script>\n",
              "        const buttonEl =\n",
              "          document.querySelector('#df-8d95e99c-e7e4-456e-907e-cd59bd072700 button.colab-df-convert');\n",
              "        buttonEl.style.display =\n",
              "          google.colab.kernel.accessAllowed ? 'block' : 'none';\n",
              "\n",
              "        async function convertToInteractive(key) {\n",
              "          const element = document.querySelector('#df-8d95e99c-e7e4-456e-907e-cd59bd072700');\n",
              "          const dataTable =\n",
              "            await google.colab.kernel.invokeFunction('convertToInteractive',\n",
              "                                                     [key], {});\n",
              "          if (!dataTable) return;\n",
              "\n",
              "          const docLinkHtml = 'Like what you see? Visit the ' +\n",
              "            '<a target=\"_blank\" href=https://colab.research.google.com/notebooks/data_table.ipynb>data table notebook</a>'\n",
              "            + ' to learn more about interactive tables.';\n",
              "          element.innerHTML = '';\n",
              "          dataTable['output_type'] = 'display_data';\n",
              "          await google.colab.output.renderOutput(dataTable, element);\n",
              "          const docLink = document.createElement('div');\n",
              "          docLink.innerHTML = docLinkHtml;\n",
              "          element.appendChild(docLink);\n",
              "        }\n",
              "      </script>\n",
              "    </div>\n",
              "  </div>\n",
              "  "
            ]
          },
          "metadata": {},
          "execution_count": 47
        }
      ]
    },
    {
      "cell_type": "code",
      "source": [
        "import pandas as pd\n",
        "import matplotlib.pyplot as plt\n",
        "import seaborn as sns\n",
        "\n",
        "normalized_gender_counts = df_tw.gender.value_counts(normalize=True)\n",
        "\n",
        "# Using seaborn for the bar plot\n",
        "plt.figure(figsize=(8, 6))\n",
        "bar_plot = sns.barplot(x=normalized_gender_counts.index, y=normalized_gender_counts.values)\n",
        "plt.xlabel('Gender')\n",
        "plt.ylabel('Normalized Frequency')\n",
        "plt.title('Normalized Gender Distribution')\n",
        "\n",
        "# Add values to the bars\n",
        "for bar in bar_plot.containers[0]:\n",
        "    height = bar.get_height()\n",
        "    bar_plot.annotate(\n",
        "        f'{height:.2%}',\n",
        "        xy=(bar.get_x() + bar.get_width() / 2, height),\n",
        "        xytext=(0, 3),\n",
        "        textcoords='offset points',\n",
        "        ha='center',\n",
        "        va='bottom',\n",
        "        fontsize=12\n",
        "    )\n",
        "\n",
        "plt.show()"
      ],
      "metadata": {
        "id": "Tj7YQqx7LT53",
        "outputId": "07add4c6-c51b-44b3-ef1e-f952ec838d7a",
        "colab": {
          "base_uri": "https://localhost:8080/",
          "height": 404
        }
      },
      "execution_count": null,
      "outputs": [
        {
          "output_type": "display_data",
          "data": {
            "text/plain": [
              "<Figure size 576x432 with 1 Axes>"
            ],
            "image/png": "[encoded data removed]"
          },
          "metadata": {
            "needs_background": "light"
          }
        }
      ]
    },
    {
      "cell_type": "markdown",
      "source": [
        "Se encuentra que los tres principales generos estan balanceados, pero se observa un 5,6% de los datos que tiene como genero \"Unkown\"."
      ],
      "metadata": {
        "id": "kcDV121-NB6Y"
      }
    },
    {
      "cell_type": "code",
      "source": [
        "df_tw.isnull().sum()"
      ],
      "metadata": {
        "colab": {
          "base_uri": "https://localhost:8080/"
        },
        "id": "Tlo7jPsCn-is",
        "outputId": "3f2549fc-2552-41e3-d516-4bb5f74773a4"
      },
      "execution_count": null,
      "outputs": [
        {
          "output_type": "execute_result",
          "data": {
            "text/plain": [
              "_unit_id                     0\n",
              "_golden                      0\n",
              "_unit_state                  0\n",
              "_trusted_judgments           0\n",
              "_last_judgment_at           50\n",
              "gender                      97\n",
              "gender:confidence           26\n",
              "profile_yn                   0\n",
              "profile_yn:confidence        0\n",
              "created                      0\n",
              "description               3744\n",
              "fav_number                   0\n",
              "gender_gold              20000\n",
              "link_color                   0\n",
              "name                         0\n",
              "profile_yn_gold          20000\n",
              "profileimage                 0\n",
              "retweet_count                0\n",
              "sidebar_color                0\n",
              "text                         0\n",
              "tweet_coord              19891\n",
              "tweet_count                  0\n",
              "tweet_created                0\n",
              "tweet_id                     0\n",
              "tweet_location            7484\n",
              "user_timezone             7798\n",
              "dtype: int64"
            ]
          },
          "metadata": {},
          "execution_count": 49
        }
      ]
    },
    {
      "cell_type": "code",
      "source": [
        "sns.barplot(x='gender',y='retweet_count',data=df_tw)"
      ],
      "metadata": {
        "colab": {
          "base_uri": "https://localhost:8080/",
          "height": 297
        },
        "id": "jJCAw__-ngL4",
        "outputId": "18c94d61-b96c-4183-aa48-6fa8c22a97c3"
      },
      "execution_count": null,
      "outputs": [
        {
          "output_type": "execute_result",
          "data": {
            "text/plain": [
              "<Axes: xlabel='gender', ylabel='retweet_count'>"
            ]
          },
          "metadata": {},
          "execution_count": 50
        },
        {
          "output_type": "display_data",
          "data": {
            "text/plain": [
              "<Figure size 432x288 with 1 Axes>"
            ],
            "image/png": "[encoded data removed]"
          },
          "metadata": {
            "needs_background": "light"
          }
        }
      ]
    },
    {
      "cell_type": "code",
      "source": [
        "df_tw['user_timezone'].unique()\n",
        "df_tw.groupby('user_timezone').size()"
      ],
      "metadata": {
        "id": "bNtMox8kuk1O",
        "outputId": "38015e40-3e6c-41ba-c653-f51a116f601d",
        "colab": {
          "base_uri": "https://localhost:8080/"
        }
      },
      "execution_count": null,
      "outputs": [
        {
          "output_type": "execute_result",
          "data": {
            "text/plain": [
              "user_timezone\n",
              "Abu Dhabi              25\n",
              "Adelaide                5\n",
              "Africa/Cairo            1\n",
              "Africa/Lagos            2\n",
              "Africa/Nairobi          1\n",
              "                       ..\n",
              "Wellington             20\n",
              "West Central Africa    43\n",
              "Yakutsk                 8\n",
              "Yerevan                 6\n",
              "Zagreb                  6\n",
              "Length: 156, dtype: int64"
            ]
          },
          "metadata": {},
          "execution_count": 51
        }
      ]
    },
    {
      "cell_type": "code",
      "source": [
        "df_tw.user_timezone.unique()\n",
        "df_tw.groupby('tweet_created').size()"
      ],
      "metadata": {
        "id": "APQQrOG6yQco",
        "outputId": "df636555-b8bd-49c2-f7ee-678adb0d355c",
        "colab": {
          "base_uri": "https://localhost:8080/"
        }
      },
      "execution_count": null,
      "outputs": [
        {
          "output_type": "execute_result",
          "data": {
            "text/plain": [
              "tweet_created\n",
              "10/26/15 12:39    1952\n",
              "10/26/15 12:40    8076\n",
              "10/26/15 13:18     265\n",
              "10/26/15 13:19    5892\n",
              "10/26/15 13:20    3865\n",
              "dtype: int64"
            ]
          },
          "metadata": {},
          "execution_count": 52
        }
      ]
    },
    {
      "cell_type": "code",
      "source": [
        "df_viaje = df_tw.copy()\n",
        "df_viaje = df_viaje[['tweet_created', 'gender']]\n",
        "df_viaje['male'] = np.where(df_viaje.gender=='male',1,0)\n",
        "df_viaje['female'] = np.where(df_viaje.gender=='female',1,0)\n",
        "df_viaje['brand'] = np.where(df_viaje.gender=='brand',1,0)\n",
        "df_viaje['unknown'] = np.where(df_viaje.gender=='unknown',1,0)\n",
        "df_viaje\n",
        "df_d = df_viaje.groupby(['tweet_created']).agg(\n",
        "    male = ('male','sum'),\n",
        "    female = ('female','sum'),\n",
        "    brand = ('brand','sum'),\n",
        "    unknown = ('unknown','sum'))\n",
        "df_d\n",
        "# df_d\n",
        "import seaborn as sns\n",
        "plt.figure(figsize=(30, 30))\n",
        "fig, ax = plt.subplots()\n",
        "ax = sns.lineplot(data=df_d, linewidth=2.5, palette=['#FA9494', '#140303', '#B46060', '#EA5455'], legend=None, linestyle='solid')\n",
        "for line, name in zip(ax.lines, df_d.columns.tolist()):\n",
        "\ty = line.get_ydata()[-1]\n",
        "\tx = line.get_xdata()[-1]\n",
        "\tif not np.isfinite(y):\n",
        "\t    y=next(reversed(line.get_ydata()[~line.get_ydata().mask]),float(\"nan\"))\n",
        "\tif not np.isfinite(y) or not np.isfinite(x):\n",
        "\t    continue     \n",
        "\ttext = ax.annotate(name,\n",
        "\t\t       xy=(x, y),\n",
        "\t\t       xytext=(0, 0),\n",
        "\t\t       color=line.get_color(),\n",
        "\t\t       xycoords=(ax.get_xaxis_transform(),\n",
        "\t\t\t\t ax.get_yaxis_transform()),\n",
        "\t\t       textcoords=\"offset points\")\n",
        "\ttext_width = (text.get_window_extent(\n",
        "\tfig.canvas.get_renderer()).transformed(ax.transData.inverted()).width)\n",
        "\tif np.isfinite(text_width):\n",
        "\t\tax.set_xlim(ax.get_xlim()[0], text.xy[0] + text_width * 1.05)\n",
        "ax.set(xlabel='Departure date', ylabel='Count', title='Gone vs Retained customers')\n",
        "#ax.legend(title='Type', title_fontsize = 13)\n",
        "sns.despine(bottom=False, left=False)\n",
        "plt.grid(False)\n",
        "plt.show()"
      ],
      "metadata": {
        "id": "92uoRHy8yYE3",
        "outputId": "ae579653-689e-4969-b9eb-2112fe48746f",
        "colab": {
          "base_uri": "https://localhost:8080/",
          "height": 313
        }
      },
      "execution_count": null,
      "outputs": [
        {
          "output_type": "display_data",
          "data": {
            "text/plain": [
              "<Figure size 2160x2160 with 0 Axes>"
            ]
          },
          "metadata": {}
        },
        {
          "output_type": "display_data",
          "data": {
            "text/plain": [
              "<Figure size 432x288 with 1 Axes>"
            ],
            "image/png": "[encoded data removed]"
          },
          "metadata": {
            "needs_background": "light"
          }
        }
      ]
    },
    {
      "cell_type": "code",
      "source": [
        "ct = pd.crosstab(df_tw['gender'], [df_tw['_golden']])#, normalize='columns')#, margins=True)\n",
        "# # Plot the crosstab as a bar chart\n",
        "# ax = ct.plot(kind='bar', figsize=(10, 6))\n",
        "# ax.set_xlabel('Gender')\n",
        "# ax.set_ylabel('Frequency')\n",
        "# ax.set_title('Normalized Crosstab')\n",
        "# plt.xticks(rotation=0)  # Rotate x-axis labels\n",
        "\n",
        "# # Add percentage values on top of the bars\n",
        "# for p in ax.patches:\n",
        "#     width, height = p.get_width(), p.get_height()\n",
        "#     x, y = p.get_xy() \n",
        "#     ax.annotate(f'{height:.2}', (x + width / 2, y + height), ha='center', va='bottom')\n",
        "\n",
        "# # Display the plot\n",
        "# plt.show()\n",
        "ct"
      ],
      "metadata": {
        "id": "LFmNC95N9NFH",
        "outputId": "9d2f89da-6f78-4efc-bd08-4b24d0ecd413",
        "colab": {
          "base_uri": "https://localhost:8080/",
          "height": 206
        }
      },
      "execution_count": null,
      "outputs": [
        {
          "output_type": "execute_result",
          "data": {
            "text/plain": [
              "_golden  False  True\n",
              "gender              \n",
              "brand     5928    14\n",
              "female    6685    15\n",
              "male      6173    21\n",
              "unknown   1117     0"
            ],
            "text/html": [
              "\n",
              "  <div id=\"df-fa01cedf-8ab0-4e8e-b140-5fb4d0b31098\">\n",
              "    <div class=\"colab-df-container\">\n",
              "      <div>\n",
              "<style scoped>\n",
              "    .dataframe tbody tr th:only-of-type {\n",
              "        vertical-align: middle;\n",
              "    }\n",
              "\n",
              "    .dataframe tbody tr th {\n",
              "        vertical-align: top;\n",
              "    }\n",
              "\n",
              "    .dataframe thead th {\n",
              "        text-align: right;\n",
              "    }\n",
              "</style>\n",
              "<table border=\"1\" class=\"dataframe\">\n",
              "  <thead>\n",
              "    <tr style=\"text-align: right;\">\n",
              "      <th>_golden</th>\n",
              "      <th>False</th>\n",
              "      <th>True</th>\n",
              "    </tr>\n",
              "    <tr>\n",
              "      <th>gender</th>\n",
              "      <th></th>\n",
              "      <th></th>\n",
              "    </tr>\n",
              "  </thead>\n",
              "  <tbody>\n",
              "    <tr>\n",
              "      <th>brand</th>\n",
              "      <td>5928</td>\n",
              "      <td>14</td>\n",
              "    </tr>\n",
              "    <tr>\n",
              "      <th>female</th>\n",
              "      <td>6685</td>\n",
              "      <td>15</td>\n",
              "    </tr>\n",
              "    <tr>\n",
              "      <th>male</th>\n",
              "      <td>6173</td>\n",
              "      <td>21</td>\n",
              "    </tr>\n",
              "    <tr>\n",
              "      <th>unknown</th>\n",
              "      <td>1117</td>\n",
              "      <td>0</td>\n",
              "    </tr>\n",
              "  </tbody>\n",
              "</table>\n",
              "</div>\n",
              "      <button class=\"colab-df-convert\" onclick=\"convertToInteractive('df-fa01cedf-8ab0-4e8e-b140-5fb4d0b31098')\"\n",
              "              title=\"Convert this dataframe to an interactive table.\"\n",
              "              style=\"display:none;\">\n",
              "        \n",
              "  <svg xmlns=\"http://www.w3.org/2000/svg\" height=\"24px\"viewBox=\"0 0 24 24\"\n",
              "       width=\"24px\">\n",
              "    <path d=\"M0 0h24v24H0V0z\" fill=\"none\"/>\n",
              "    <path d=\"M18.56 5.44l.94 2.06.94-2.06 2.06-.94-2.06-.94-.94-2.06-.94 2.06-2.06.94zm-11 1L8.5 8.5l.94-2.06 2.06-.94-2.06-.94L8.5 2.5l-.94 2.06-2.06.94zm10 10l.94 2.06.94-2.06 2.06-.94-2.06-.94-.94-2.06-.94 2.06-2.06.94z\"/><path d=\"M17.41 7.96l-1.37-1.37c-.4-.4-.92-.59-1.43-.59-.52 0-1.04.2-1.43.59L10.3 9.45l-7.72 7.72c-.78.78-.78 2.05 0 2.83L4 21.41c.39.39.9.59 1.41.59.51 0 1.02-.2 1.41-.59l7.78-7.78 2.81-2.81c.8-.78.8-2.07 0-2.86zM5.41 20L4 18.59l7.72-7.72 1.47 1.35L5.41 20z\"/>\n",
              "  </svg>\n",
              "      </button>\n",
              "      \n",
              "  <style>\n",
              "    .colab-df-container {\n",
              "      display:flex;\n",
              "      flex-wrap:wrap;\n",
              "      gap: 12px;\n",
              "    }\n",
              "\n",
              "    .colab-df-convert {\n",
              "      background-color: #E8F0FE;\n",
              "      border: none;\n",
              "      border-radius: 50%;\n",
              "      cursor: pointer;\n",
              "      display: none;\n",
              "      fill: #1967D2;\n",
              "      height: 32px;\n",
              "      padding: 0 0 0 0;\n",
              "      width: 32px;\n",
              "    }\n",
              "\n",
              "    .colab-df-convert:hover {\n",
              "      background-color: #E2EBFA;\n",
              "      box-shadow: 0px 1px 2px rgba(60, 64, 67, 0.3), 0px 1px 3px 1px rgba(60, 64, 67, 0.15);\n",
              "      fill: #174EA6;\n",
              "    }\n",
              "\n",
              "    [theme=dark] .colab-df-convert {\n",
              "      background-color: #3B4455;\n",
              "      fill: #D2E3FC;\n",
              "    }\n",
              "\n",
              "    [theme=dark] .colab-df-convert:hover {\n",
              "      background-color: #434B5C;\n",
              "      box-shadow: 0px 1px 3px 1px rgba(0, 0, 0, 0.15);\n",
              "      filter: drop-shadow(0px 1px 2px rgba(0, 0, 0, 0.3));\n",
              "      fill: #FFFFFF;\n",
              "    }\n",
              "  </style>\n",
              "\n",
              "      <script>\n",
              "        const buttonEl =\n",
              "          document.querySelector('#df-fa01cedf-8ab0-4e8e-b140-5fb4d0b31098 button.colab-df-convert');\n",
              "        buttonEl.style.display =\n",
              "          google.colab.kernel.accessAllowed ? 'block' : 'none';\n",
              "\n",
              "        async function convertToInteractive(key) {\n",
              "          const element = document.querySelector('#df-fa01cedf-8ab0-4e8e-b140-5fb4d0b31098');\n",
              "          const dataTable =\n",
              "            await google.colab.kernel.invokeFunction('convertToInteractive',\n",
              "                                                     [key], {});\n",
              "          if (!dataTable) return;\n",
              "\n",
              "          const docLinkHtml = 'Like what you see? Visit the ' +\n",
              "            '<a target=\"_blank\" href=https://colab.research.google.com/notebooks/data_table.ipynb>data table notebook</a>'\n",
              "            + ' to learn more about interactive tables.';\n",
              "          element.innerHTML = '';\n",
              "          dataTable['output_type'] = 'display_data';\n",
              "          await google.colab.output.renderOutput(dataTable, element);\n",
              "          const docLink = document.createElement('div');\n",
              "          docLink.innerHTML = docLinkHtml;\n",
              "          element.appendChild(docLink);\n",
              "        }\n",
              "      </script>\n",
              "    </div>\n",
              "  </div>\n",
              "  "
            ]
          },
          "metadata": {},
          "execution_count": 54
        }
      ]
    },
    {
      "cell_type": "code",
      "source": [
        "pd.crosstab(df_tw['gender'], [df_tw['_unit_state']])"
      ],
      "metadata": {
        "id": "CzOUDnN0AMo0",
        "outputId": "9810430e-a66e-460c-8dd4-c46d61abf0ca",
        "colab": {
          "base_uri": "https://localhost:8080/",
          "height": 206
        }
      },
      "execution_count": null,
      "outputs": [
        {
          "output_type": "execute_result",
          "data": {
            "text/plain": [
              "_unit_state  finalized  golden\n",
              "gender                        \n",
              "brand             5928      14\n",
              "female            6685      15\n",
              "male              6173      21\n",
              "unknown           1117       0"
            ],
            "text/html": [
              "\n",
              "  <div id=\"df-a0012e7f-b6f3-4158-a000-c7cfe2c91759\">\n",
              "    <div class=\"colab-df-container\">\n",
              "      <div>\n",
              "<style scoped>\n",
              "    .dataframe tbody tr th:only-of-type {\n",
              "        vertical-align: middle;\n",
              "    }\n",
              "\n",
              "    .dataframe tbody tr th {\n",
              "        vertical-align: top;\n",
              "    }\n",
              "\n",
              "    .dataframe thead th {\n",
              "        text-align: right;\n",
              "    }\n",
              "</style>\n",
              "<table border=\"1\" class=\"dataframe\">\n",
              "  <thead>\n",
              "    <tr style=\"text-align: right;\">\n",
              "      <th>_unit_state</th>\n",
              "      <th>finalized</th>\n",
              "      <th>golden</th>\n",
              "    </tr>\n",
              "    <tr>\n",
              "      <th>gender</th>\n",
              "      <th></th>\n",
              "      <th></th>\n",
              "    </tr>\n",
              "  </thead>\n",
              "  <tbody>\n",
              "    <tr>\n",
              "      <th>brand</th>\n",
              "      <td>5928</td>\n",
              "      <td>14</td>\n",
              "    </tr>\n",
              "    <tr>\n",
              "      <th>female</th>\n",
              "      <td>6685</td>\n",
              "      <td>15</td>\n",
              "    </tr>\n",
              "    <tr>\n",
              "      <th>male</th>\n",
              "      <td>6173</td>\n",
              "      <td>21</td>\n",
              "    </tr>\n",
              "    <tr>\n",
              "      <th>unknown</th>\n",
              "      <td>1117</td>\n",
              "      <td>0</td>\n",
              "    </tr>\n",
              "  </tbody>\n",
              "</table>\n",
              "</div>\n",
              "      <button class=\"colab-df-convert\" onclick=\"convertToInteractive('df-a0012e7f-b6f3-4158-a000-c7cfe2c91759')\"\n",
              "              title=\"Convert this dataframe to an interactive table.\"\n",
              "              style=\"display:none;\">\n",
              "        \n",
              "  <svg xmlns=\"http://www.w3.org/2000/svg\" height=\"24px\"viewBox=\"0 0 24 24\"\n",
              "       width=\"24px\">\n",
              "    <path d=\"M0 0h24v24H0V0z\" fill=\"none\"/>\n",
              "    <path d=\"M18.56 5.44l.94 2.06.94-2.06 2.06-.94-2.06-.94-.94-2.06-.94 2.06-2.06.94zm-11 1L8.5 8.5l.94-2.06 2.06-.94-2.06-.94L8.5 2.5l-.94 2.06-2.06.94zm10 10l.94 2.06.94-2.06 2.06-.94-2.06-.94-.94-2.06-.94 2.06-2.06.94z\"/><path d=\"M17.41 7.96l-1.37-1.37c-.4-.4-.92-.59-1.43-.59-.52 0-1.04.2-1.43.59L10.3 9.45l-7.72 7.72c-.78.78-.78 2.05 0 2.83L4 21.41c.39.39.9.59 1.41.59.51 0 1.02-.2 1.41-.59l7.78-7.78 2.81-2.81c.8-.78.8-2.07 0-2.86zM5.41 20L4 18.59l7.72-7.72 1.47 1.35L5.41 20z\"/>\n",
              "  </svg>\n",
              "      </button>\n",
              "      \n",
              "  <style>\n",
              "    .colab-df-container {\n",
              "      display:flex;\n",
              "      flex-wrap:wrap;\n",
              "      gap: 12px;\n",
              "    }\n",
              "\n",
              "    .colab-df-convert {\n",
              "      background-color: #E8F0FE;\n",
              "      border: none;\n",
              "      border-radius: 50%;\n",
              "      cursor: pointer;\n",
              "      display: none;\n",
              "      fill: #1967D2;\n",
              "      height: 32px;\n",
              "      padding: 0 0 0 0;\n",
              "      width: 32px;\n",
              "    }\n",
              "\n",
              "    .colab-df-convert:hover {\n",
              "      background-color: #E2EBFA;\n",
              "      box-shadow: 0px 1px 2px rgba(60, 64, 67, 0.3), 0px 1px 3px 1px rgba(60, 64, 67, 0.15);\n",
              "      fill: #174EA6;\n",
              "    }\n",
              "\n",
              "    [theme=dark] .colab-df-convert {\n",
              "      background-color: #3B4455;\n",
              "      fill: #D2E3FC;\n",
              "    }\n",
              "\n",
              "    [theme=dark] .colab-df-convert:hover {\n",
              "      background-color: #434B5C;\n",
              "      box-shadow: 0px 1px 3px 1px rgba(0, 0, 0, 0.15);\n",
              "      filter: drop-shadow(0px 1px 2px rgba(0, 0, 0, 0.3));\n",
              "      fill: #FFFFFF;\n",
              "    }\n",
              "  </style>\n",
              "\n",
              "      <script>\n",
              "        const buttonEl =\n",
              "          document.querySelector('#df-a0012e7f-b6f3-4158-a000-c7cfe2c91759 button.colab-df-convert');\n",
              "        buttonEl.style.display =\n",
              "          google.colab.kernel.accessAllowed ? 'block' : 'none';\n",
              "\n",
              "        async function convertToInteractive(key) {\n",
              "          const element = document.querySelector('#df-a0012e7f-b6f3-4158-a000-c7cfe2c91759');\n",
              "          const dataTable =\n",
              "            await google.colab.kernel.invokeFunction('convertToInteractive',\n",
              "                                                     [key], {});\n",
              "          if (!dataTable) return;\n",
              "\n",
              "          const docLinkHtml = 'Like what you see? Visit the ' +\n",
              "            '<a target=\"_blank\" href=https://colab.research.google.com/notebooks/data_table.ipynb>data table notebook</a>'\n",
              "            + ' to learn more about interactive tables.';\n",
              "          element.innerHTML = '';\n",
              "          dataTable['output_type'] = 'display_data';\n",
              "          await google.colab.output.renderOutput(dataTable, element);\n",
              "          const docLink = document.createElement('div');\n",
              "          docLink.innerHTML = docLinkHtml;\n",
              "          element.appendChild(docLink);\n",
              "        }\n",
              "      </script>\n",
              "    </div>\n",
              "  </div>\n",
              "  "
            ]
          },
          "metadata": {},
          "execution_count": 55
        }
      ]
    },
    {
      "cell_type": "code",
      "source": [
        "pd.DataFrame(np.where(df_tw._trusted_judgments != 3,0,3)).value_counts(normalize=True)\n"
      ],
      "metadata": {
        "id": "DsKGovs_BE4t",
        "outputId": "7647534a-5406-4eb7-b2c8-dd1d8a86c804",
        "colab": {
          "base_uri": "https://localhost:8080/"
        }
      },
      "execution_count": null,
      "outputs": [
        {
          "output_type": "execute_result",
          "data": {
            "text/plain": [
              "3    0.997506\n",
              "0    0.002494\n",
              "dtype: float64"
            ]
          },
          "metadata": {},
          "execution_count": 56
        }
      ]
    },
    {
      "cell_type": "code",
      "source": [
        "df_viaje = df_tw.copy()\n",
        "df_viaje = df_viaje[['_last_judgment_at', 'gender']]\n",
        "df_viaje['male'] = np.where(df_viaje.gender=='male',1,0)\n",
        "df_viaje['female'] = np.where(df_viaje.gender=='female',1,0)\n",
        "df_viaje['brand'] = np.where(df_viaje.gender=='brand',1,0)\n",
        "df_viaje['unknown'] = np.where(df_viaje.gender=='unknown',1,0)\n",
        "df_viaje\n",
        "df_d = df_viaje.groupby(['_last_judgment_at']).agg(\n",
        "    male = ('male','sum'),\n",
        "    female = ('female','sum'),\n",
        "    brand = ('brand','sum'),\n",
        "    unknown = ('unknown','sum'))\n",
        "df_d\n",
        "# df_d\n",
        "import seaborn as sns\n",
        "plt.figure(figsize=(30, 30))\n",
        "fig, ax = plt.subplots()\n",
        "ax = sns.lineplot(data=df_d, linewidth=2.5, palette=['#FA9494', '#140303', '#B46060', '#EA5455'], legend=None, linestyle='solid')\n",
        "for line, name in zip(ax.lines, df_d.columns.tolist()):\n",
        "\ty = line.get_ydata()[-1]\n",
        "\tx = line.get_xdata()[-1]\n",
        "\tif not np.isfinite(y):\n",
        "\t    y=next(reversed(line.get_ydata()[~line.get_ydata().mask]),float(\"nan\"))\n",
        "\tif not np.isfinite(y) or not np.isfinite(x):\n",
        "\t    continue     \n",
        "\ttext = ax.annotate(name,\n",
        "\t\t       xy=(x, y),\n",
        "\t\t       xytext=(0, 0),\n",
        "\t\t       color=line.get_color(),\n",
        "\t\t       xycoords=(ax.get_xaxis_transform(),\n",
        "\t\t\t\t ax.get_yaxis_transform()),\n",
        "\t\t       textcoords=\"offset points\")\n",
        "\ttext_width = (text.get_window_extent(\n",
        "\tfig.canvas.get_renderer()).transformed(ax.transData.inverted()).width)\n",
        "\tif np.isfinite(text_width):\n",
        "\t\tax.set_xlim(ax.get_xlim()[0], text.xy[0] + text_width * 1.05)\n",
        "ax.set(xlabel='Departure date', ylabel='Count', title='Gone vs Retained customers')\n",
        "#ax.legend(title='Type', title_fontsize = 13)\n",
        "sns.despine(bottom=False, left=False)\n",
        "plt.grid(False)\n",
        "plt.show()"
      ],
      "metadata": {
        "id": "wnr59PqFB8Wb",
        "outputId": "48329d0f-7572-4f58-d0d2-087af6831c87",
        "colab": {
          "base_uri": "https://localhost:8080/",
          "height": 313
        }
      },
      "execution_count": null,
      "outputs": [
        {
          "output_type": "display_data",
          "data": {
            "text/plain": [
              "<Figure size 2160x2160 with 0 Axes>"
            ]
          },
          "metadata": {}
        },
        {
          "output_type": "display_data",
          "data": {
            "text/plain": [
              "<Figure size 432x288 with 1 Axes>"
            ],
            "image/png": "[encoded data removed]"
          },
          "metadata": {
            "needs_background": "light"
          }
        }
      ]
    },
    {
      "cell_type": "code",
      "source": [
        "# Define the bins and labels for the groups\n",
        "bins = [0, 0.25, 0.5, 0.75, 1]\n",
        "labels = ['0-0.25', '0.25-0.5', '0.5-0.75', '0.75-1']\n",
        "\n",
        "# Create a new column 'group' based on the ranges and labels\n",
        "df_tw['group_gender:confidence'] = pd.cut(df_tw['gender:confidence'], bins=bins, labels=labels)\n",
        "\n",
        "\n",
        "# Create a crosstab\n",
        "ct = pd.crosstab(df_tw['gender'], df_tw['group_gender:confidence'])\n",
        "\n",
        "# Plot the crosstab as a bar plot\n",
        "ax = ct.plot(kind='bar', stacked=True, figsize=(10, 6))\n",
        "plt.title('Gender Distribution by Confidence Group')\n",
        "plt.xlabel('Gender')\n",
        "plt.ylabel('Count')\n",
        "plt.legend(title='Confidence Group', loc='upper right')\n",
        "\n",
        "# Display the plot\n",
        "plt.show()"
      ],
      "metadata": {
        "id": "hSkYh12SFHv3",
        "outputId": "15809309-eb1a-4374-e1fc-1ac3ac9e9013",
        "colab": {
          "base_uri": "https://localhost:8080/",
          "height": 439
        }
      },
      "execution_count": null,
      "outputs": [
        {
          "output_type": "display_data",
          "data": {
            "text/plain": [
              "<Figure size 720x432 with 1 Axes>"
            ],
            "image/png": "[encoded data removed]"
          },
          "metadata": {
            "needs_background": "light"
          }
        }
      ]
    },
    {
      "cell_type": "code",
      "source": [],
      "metadata": {
        "id": "V4Y8PJ2FKQJd"
      },
      "execution_count": null,
      "outputs": []
    },
    {
      "cell_type": "code",
      "source": [
        "#Outliers\n",
        "sns.boxplot(data=df_tw, x='gender', y='fav_number', showfliers=False)\n",
        "#Add a title and y-axis label\n",
        "plt.title('Boxplot of fav_number based on gender')\n",
        "plt.ylabel('gender_confidence')\n",
        "# Show the plot\n",
        "plt.show()"
      ],
      "metadata": {
        "id": "9gl-N0lRvIcu",
        "outputId": "99bfceca-700a-468d-c824-22e3f86a2726",
        "colab": {
          "base_uri": "https://localhost:8080/",
          "height": 295
        }
      },
      "execution_count": null,
      "outputs": [
        {
          "output_type": "display_data",
          "data": {
            "text/plain": [
              "<Figure size 432x288 with 1 Axes>"
            ],
            "image/png": "[encoded data removed]"
          },
          "metadata": {
            "needs_background": "light"
          }
        }
      ]
    },
    {
      "cell_type": "code",
      "source": [
        "# Define the bins and labels for the groups\n",
        "bins = [0, 0.25, 0.5, 0.75, 1]\n",
        "labels = ['0-0.25', '0.25-0.5', '0.5-0.75', '0.75-1']\n",
        "\n",
        "# Create a new column 'group' based on the ranges and labels\n",
        "df_tw['group_profile_yn:confidence'] = pd.cut(df_tw['profile_yn:confidence'], bins=bins, labels=labels)\n",
        "\n",
        "\n",
        "# Create a crosstab\n",
        "ct = pd.crosstab(df_tw['gender'], df_tw['group_profile_yn:confidence'])\n",
        "\n",
        "# Plot the crosstab as a bar plot\n",
        "ax = ct.plot(kind='bar', stacked=True, figsize=(10, 6))\n",
        "plt.title('Gender Distribution by Confidence Group')\n",
        "plt.xlabel('Gender')\n",
        "plt.ylabel('Count')\n",
        "plt.legend(title='Confidence Group', loc='upper right')\n",
        "\n",
        " \n",
        "\n",
        "# Display the plot\n",
        "plt.show()"
      ],
      "metadata": {
        "id": "fi4zELPTIlXK",
        "outputId": "96ec3dcc-9798-4872-d5b7-d53143ec4538",
        "colab": {
          "base_uri": "https://localhost:8080/",
          "height": 439
        }
      },
      "execution_count": null,
      "outputs": [
        {
          "output_type": "display_data",
          "data": {
            "text/plain": [
              "<Figure size 720x432 with 1 Axes>"
            ],
            "image/png": "[encoded data removed]"
          },
          "metadata": {
            "needs_background": "light"
          }
        }
      ]
    },
    {
      "cell_type": "code",
      "source": [
        "df_tw.tweet_location.value_counts()"
      ],
      "metadata": {
        "id": "UZKP9uXSKn1V",
        "outputId": "95a18290-664f-4d58-cee6-c88b22ac004c",
        "colab": {
          "base_uri": "https://localhost:8080/"
        }
      },
      "execution_count": null,
      "outputs": [
        {
          "output_type": "execute_result",
          "data": {
            "text/plain": [
              "London                            152\n",
              "United States                     142\n",
              "USA                                94\n",
              "UK                                 92\n",
              "Los Angeles, CA                    69\n",
              "                                 ... \n",
              "Currently, ehh... Limbo?!??...      1\n",
              "texas  ÷Ûü                       1\n",
              "oakland                             1\n",
              "Moray Scotland, United Kingdom      1\n",
              "Glendale CA                         1\n",
              "Name: tweet_location, Length: 7864, dtype: int64"
            ]
          },
          "metadata": {},
          "execution_count": 69
        }
      ]
    },
    {
      "cell_type": "code",
      "source": [
        "#Outliers\n",
        "sns.boxplot(data=df_tw, x='gender', y='retweet_count', showfliers=False)\n",
        "#Add a title and y-axis label\n",
        "plt.title('Boxplot of fav_number based on gender')\n",
        "plt.ylabel('gender_confidence')\n",
        "# Show the plot\n",
        "plt.show()"
      ],
      "metadata": {
        "id": "XKuNlT7dW3JR",
        "outputId": "9356d483-7387-4c0f-c9f2-7ef21ec33242",
        "colab": {
          "base_uri": "https://localhost:8080/",
          "height": 295
        }
      },
      "execution_count": null,
      "outputs": [
        {
          "output_type": "display_data",
          "data": {
            "text/plain": [
              "<Figure size 432x288 with 1 Axes>"
            ],
            "image/png": "[encoded data removed]"
          },
          "metadata": {
            "needs_background": "light"
          }
        }
      ]
    },
    {
      "cell_type": "code",
      "source": [
        "# Create a violin plot of Tuition with a hue based on Is.Non.Annual.\n",
        "sns.violinplot(data=df_tw, x='gender', y='gender:confidence')\n",
        "# Add a title and y-axis label\n",
        "plt.title('Violin Plot of gender_confidence based on gender')\n",
        "plt.ylabel('gender_confidence')\n",
        "# Show the plot\n",
        "plt.show()"
      ],
      "metadata": {
        "id": "-mQdkfQmwJZr",
        "outputId": "4e7dbfb5-f2d1-4d88-aa4f-3458ed9f5e74",
        "colab": {
          "base_uri": "https://localhost:8080/",
          "height": 295
        }
      },
      "execution_count": null,
      "outputs": [
        {
          "output_type": "display_data",
          "data": {
            "text/plain": [
              "<Figure size 432x288 with 1 Axes>"
            ],
            "image/png": "[encoded data removed]"
          },
          "metadata": {
            "needs_background": "light"
          }
        }
      ]
    },
    {
      "cell_type": "code",
      "source": [
        "import numpy as np\n",
        "from sklearn.datasets import load_breast_cancer\n",
        "from sklearn.model_selection import train_test_split\n",
        "\n",
        "# Load the breast cancer dataset\n",
        "data = load_breast_cancer()\n",
        "\n",
        "# Split the data into training and testing sets\n",
        "X_train, X_test, y_train, y_test = train_test_split(data.data, data.target, test_size=0.2, random_state=42)\n",
        "\n",
        "# Split the training data into training and validation sets\n",
        "X_train, X_val, y_train, y_val = train_test_split(X_train, y_train, test_size=0.25, random_state=42)\n",
        "\n",
        "# Print the sizes of the resulting sets\n",
        "print(f\"Training set size: {len(X_train)}\")\n",
        "print(f\"Validation set size: {len(X_val)}\")\n",
        "print(f\"Test set size: {len(X_test)}\")"
      ],
      "metadata": {
        "id": "9Jgzh47la4lN"
      },
      "execution_count": null,
      "outputs": []
    },
    {
      "cell_type": "code",
      "source": [
        "import numpy as np\n",
        "\n",
        "class Perceptron:\n",
        "    def __init__(self, num_inputs, num_classes, learning_rate=0.1, max_epochs=100):\n",
        "        self.weights = np.zeros((num_inputs, num_classes))\n",
        "        self.bias = np.zeros(num_classes)\n",
        "        self.learning_rate = learning_rate\n",
        "        self.max_epochs = max_epochs\n",
        "        \n",
        "    def fit(self, X, y):\n",
        "        for epoch in range(self.max_epochs):\n",
        "            for i in range(len(X)):\n",
        "                x = X[i]\n",
        "                z = np.dot(x, self.weights) + self.bias\n",
        "                y_pred = np.argmax(z)\n",
        "                if y_pred != y[i]:\n",
        "                    self.weights[:, y[i]] += self.learning_rate * x\n",
        "                    self.bias[y[i]] += self.learning_rate\n",
        "                    self.weights[:, y_pred] -= self.learning_rate * x\n",
        "                    self.bias[y_pred] -= self.learning_rate\n",
        "                    \n",
        "    def predict(self, X):\n",
        "        z = np.dot(X, self.weights) + self.bias\n",
        "        return np.argmax(z, axis=1)\n"
      ],
      "metadata": {
        "id": "53fkgif6Xabb"
      },
      "execution_count": null,
      "outputs": []
    },
    {
      "cell_type": "code",
      "source": [
        "from sklearn.datasets import load_iris\n",
        "from sklearn.preprocessing import OneHotEncoder\n",
        "from sklearn.model_selection import train_test_split\n",
        "\n",
        "# Load the iris dataset and split into training and testing sets\n",
        "data = load_iris()\n",
        "X_train, X_test, y_train, y_test = train_test_split(data.data, data.target, test_size=0.2, random_state=42)\n",
        "\n",
        "# One-hot encode the target labels\n",
        "enc = OneHotEncoder(sparse=False)\n",
        "y_train_encoded = enc.fit_transform(y_train.reshape(-1, 1))\n",
        "\n",
        "# Train the perceptron\n",
        "perceptron = Perceptron(num_inputs=X_train.shape[1], num_classes=3)\n",
        "perceptron.fit(X_train, y_train_encoded)\n",
        "\n",
        "# Predict the class labels for the test set\n",
        "y_test_pred = perceptron.predict(X_test)\n",
        "\n",
        "# Decode the predicted labels\n",
        "y_test_pred_decoded = enc.inverse_transform(y_test_pred.reshape(-1, 1))\n",
        "\n",
        "# Compute the accuracy\n",
        "accuracy = np.mean(y_test == y_test_pred_decoded)\n",
        "print(f\"Accuracy: {accuracy}\")\n"
      ],
      "metadata": {
        "id": "tF_AWms2aG1t"
      },
      "execution_count": null,
      "outputs": []
    },
    {
      "cell_type": "code",
      "source": [
        "import tensorflow as tf\n",
        "from sklearn.datasets import load_breast_cancer\n",
        "from sklearn.model_selection import train_test_split\n",
        "from sklearn.preprocessing import StandardScaler\n",
        "\n",
        "# Load the breast cancer dataset and split into training and testing sets\n",
        "data = load_breast_cancer()\n",
        "X_train, X_test, y_train, y_test = train_test_split(data.data, data.target, test_size=0.2, random_state=42)\n",
        "\n",
        "# Scale the data using StandardScaler\n",
        "scaler = StandardScaler()\n",
        "X_train = scaler.fit_transform(X_train)\n",
        "X_test = scaler.transform(X_test)\n",
        "\n",
        "# Define the model architecture\n",
        "model = tf.keras.models.Sequential([\n",
        "    tf.keras.layers.Dense(units=X_train.shape[1], activation='relu', input_shape=(X_train.shape[1],)),\n",
        "    tf.keras.layers.Dense(units=1, activation='sigmoid')\n",
        "])\n",
        "\n",
        "# Compile the model\n",
        "model.compile(optimizer='adam', loss='binary_crossentropy', metrics=['accuracy'])\n",
        "\n",
        "# Train the model\n",
        "model.fit(X_train, y_train, epochs=10, batch_size=32)\n",
        "\n",
        "# Evaluate the model on the test set\n",
        "score = model.evaluate(X_test, y_test)\n",
        "print(f\"Test set accuracy: {score[1]}\")\n"
      ],
      "metadata": {
        "id": "RxFAZWFxaHPr"
      },
      "execution_count": null,
      "outputs": []
    },
    {
      "cell_type": "code",
      "source": [
        "import tensorflow as tf\n",
        "from sklearn.datasets import load_breast_cancer\n",
        "from sklearn.model_selection import train_test_split\n",
        "from sklearn.preprocessing import StandardScaler\n",
        "\n",
        "# Load the breast cancer dataset and split into training and testing sets\n",
        "data = load_breast_cancer()\n",
        "X_train, X_test, y_train, y_test = train_test_split(data.data, data.target, test_size=0.2, random_state=42)\n",
        "\n",
        "# Scale the data using StandardScaler\n",
        "scaler = StandardScaler()\n",
        "X_train = scaler.fit_transform(X_train)\n",
        "X_test = scaler.transform(X_test)\n",
        "\n",
        "# Define the model architecture\n",
        "model = tf.keras.models.Sequential([\n",
        "    tf.keras.layers.Dense(units=X_train.shape[1]//2, activation='relu', input_shape=(X_train.shape[1],)),\n",
        "    tf.keras.layers.Dense(units=X_train.shape[1]//2, activation='relu'),\n",
        "    tf.keras.layers.Dense(units=X_train.shape[1]//2, activation='relu'),\n",
        "    tf.keras.layers.Dense(units=1, activation='sigmoid')\n",
        "])\n",
        "\n",
        "# Compile the model\n",
        "model.compile(optimizer='adam', loss='binary_crossentropy', metrics=['accuracy'])\n",
        "\n",
        "# Train the model\n",
        "model.fit(X_train, y_train, epochs=10, batch_size=32)\n",
        "\n",
        "# Evaluate the model on the test set\n",
        "score = model.evaluate(X_test, y_test)\n",
        "print(f\"Test set accuracy: {score[1]}\")"
      ],
      "metadata": {
        "id": "eJdxwmecaNbv"
      },
      "execution_count": null,
      "outputs": []
    }
  ]
}